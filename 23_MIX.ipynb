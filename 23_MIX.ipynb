{
  "nbformat": 4,
  "nbformat_minor": 0,
  "metadata": {
    "colab": {
      "provenance": [],
      "authorship_tag": "ABX9TyMnGzuJOzo7lrQBZB960e7N",
      "include_colab_link": true
    },
    "kernelspec": {
      "name": "python3",
      "display_name": "Python 3"
    },
    "language_info": {
      "name": "python"
    }
  },
  "cells": [
    {
      "cell_type": "markdown",
      "metadata": {
        "id": "view-in-github",
        "colab_type": "text"
      },
      "source": [
        "<a href=\"https://colab.research.google.com/github/mixsuwisut/suwisut-subsakul/blob/main/23_MIX.ipynb\" target=\"_parent\"><img src=\"https://colab.research.google.com/assets/colab-badge.svg\" alt=\"Open In Colab\"/></a>"
      ]
    },
    {
      "cell_type": "markdown",
      "source": [
        "## เลขที่ 23 สุวิสุทธิ์ ทรัพย์สกุล\n",
        "## No 23 Suwisut Subsakul"
      ],
      "metadata": {
        "id": "U_Sx1MRWdtPW"
      }
    },
    {
      "cell_type": "code",
      "source": [],
      "metadata": {
        "id": "jSpFJmhgGMJ0"
      },
      "execution_count": null,
      "outputs": []
    },
    {
      "cell_type": "code",
      "source": [
        "def circle(r):\n",
        "    return 3.14 * r  * r\n",
        "\n",
        "print(circle(3))"
      ],
      "metadata": {
        "colab": {
          "base_uri": "https://localhost:8080/"
        },
        "id": "D_bJINm-GZ5N",
        "outputId": "a0828b01-503c-4cf2-a56e-0d8b0f688956"
      },
      "execution_count": 1,
      "outputs": [
        {
          "output_type": "stream",
          "name": "stdout",
          "text": [
            "28.259999999999998\n"
          ]
        }
      ]
    },
    {
      "cell_type": "code",
      "source": [
        "ide=int(input)(\"ความยาวด้าน\")\n",
        "area=side*long\n",
        "pint(\"\")"
      ],
      "metadata": {
        "colab": {
          "base_uri": "https://localhost:8080/",
          "height": 184
        },
        "id": "vE326F7ZQqcm",
        "outputId": "8bf27081-500c-4996-d140-a329dcaa5663"
      },
      "execution_count": null,
      "outputs": [
        {
          "output_type": "error",
          "ename": "TypeError",
          "evalue": "int() argument must be a string, a bytes-like object or a real number, not 'method'",
          "traceback": [
            "\u001b[0;31m---------------------------------------------------------------------------\u001b[0m",
            "\u001b[0;31mTypeError\u001b[0m                                 Traceback (most recent call last)",
            "\u001b[0;32m<ipython-input-1-4751436948d9>\u001b[0m in \u001b[0;36m<cell line: 1>\u001b[0;34m()\u001b[0m\n\u001b[0;32m----> 1\u001b[0;31m \u001b[0mide\u001b[0m\u001b[0;34m=\u001b[0m\u001b[0mint\u001b[0m\u001b[0;34m(\u001b[0m\u001b[0minput\u001b[0m\u001b[0;34m)\u001b[0m\u001b[0;34m(\u001b[0m\u001b[0;34m\"ความยาวด้าน\"\u001b[0m\u001b[0;34m)\u001b[0m\u001b[0;34m\u001b[0m\u001b[0;34m\u001b[0m\u001b[0m\n\u001b[0m\u001b[1;32m      2\u001b[0m \u001b[0marea\u001b[0m\u001b[0;34m=\u001b[0m\u001b[0mside\u001b[0m\u001b[0;34m*\u001b[0m\u001b[0mlong\u001b[0m\u001b[0;34m\u001b[0m\u001b[0;34m\u001b[0m\u001b[0m\n\u001b[1;32m      3\u001b[0m \u001b[0mpint\u001b[0m\u001b[0;34m(\u001b[0m\u001b[0;34m\"\"\u001b[0m\u001b[0;34m)\u001b[0m\u001b[0;34m\u001b[0m\u001b[0;34m\u001b[0m\u001b[0m\n",
            "\u001b[0;31mTypeError\u001b[0m: int() argument must be a string, a bytes-like object or a real number, not 'method'"
          ]
        }
      ]
    },
    {
      "cell_type": "code",
      "source": [
        "long=int(input(\"ความกว้าง(ซม.)คือ\"))\n",
        "lenght=*"
      ],
      "metadata": {
        "id": "HNHSIqEaXKw_"
      },
      "execution_count": null,
      "outputs": []
    },
    {
      "cell_type": "code",
      "source": [
        "def calculate_bmi(weight_kg, height_m):\n",
        "    bmi = weight_kg / (height_m ** 2)\n",
        "    return bmi\n",
        "\n",
        "def main():\n",
        "    weight = float(input(\"กรุณากรอกน้ำหนัก (กิโลกรัม): \"))\n",
        "    height = float(input(\"กรุณากรอกส่วนสูง (เมตร): \"))\n",
        "\n",
        "    bmi = calculate_bmi(weight, height)\n",
        "\n",
        "    print(\"ค่าดัชนีมวลกาย (BMI) ของคุณคือ {:.2f}\".format(bmi))\n",
        "\n",
        "    if bmi < 18.5:\n",
        "        print(\"น้ำหนักน้อยกว่ามาตรฐาน\")\n",
        "    elif 18.5 <= bmi < 25:\n",
        "        print(\"น้ำหนักปกติ\")\n",
        "    elif 25 <= bmi < 30:\n",
        "        print(\"น้ำหนักเกิน\")\n",
        "    else:\n",
        "        print(\"โรคอ้วน\")\n",
        "\n",
        "if __name__ == \"__main__\":\n",
        "    main()+-"
      ],
      "metadata": {
        "colab": {
          "base_uri": "https://localhost:8080/"
        },
        "id": "_8ZEv6FWZmLG",
        "outputId": "49dfb5e0-bb5e-4f71-b28b-484f7e5fe881"
      },
      "execution_count": null,
      "outputs": [
        {
          "output_type": "stream",
          "name": "stdout",
          "text": [
            "กรุณากรอกน้ำหนัก (กิโลกรัม): 45\n",
            "กรุณากรอกส่วนสูง (เมตร): 167\n",
            "ค่าดัชนีมวลกาย (BMI) ของคุณคือ 0.00\n",
            "น้ำหนักน้อยกว่ามาตรฐาน\n"
          ]
        }
      ]
    },
    {
      "cell_type": "markdown",
      "source": [],
      "metadata": {
        "id": "chgmYzcmWm1b"
      }
    },
    {
      "cell_type": "markdown",
      "source": [],
      "metadata": {
        "id": "yewop7SgQOAw"
      }
    },
    {
      "cell_type": "markdown",
      "source": [
        "20/พฤษภาคม/2567"
      ],
      "metadata": {
        "id": "m9Aqoj1zdJVI"
      }
    },
    {
      "cell_type": "code",
      "execution_count": null,
      "metadata": {
        "id": "3HyuZ3ezdIRU",
        "colab": {
          "base_uri": "https://localhost:8080/"
        },
        "outputId": "e38dfb85-abb3-4275-8df8-8390d3399be9"
      },
      "outputs": [
        {
          "output_type": "stream",
          "name": "stdout",
          "text": [
            "4/4\n"
          ]
        }
      ],
      "source": [
        "print('4/4')"
      ]
    },
    {
      "cell_type": "code",
      "source": [
        "print('ฉันมิกซ์นะงับ')"
      ],
      "metadata": {
        "colab": {
          "base_uri": "https://localhost:8080/"
        },
        "id": "0mcwEuEHDDmk",
        "outputId": "ce551b5f-8a38-4a3e-f2c1-06b563bcbbab"
      },
      "execution_count": null,
      "outputs": [
        {
          "output_type": "stream",
          "name": "stdout",
          "text": [
            "ฉันมิกซ์นะงับ\n"
          ]
        }
      ]
    },
    {
      "cell_type": "code",
      "source": [
        "a = 2\n",
        "b = 3\n",
        "c = 5\n",
        "print('2*(3+5)=2*3+2*5')"
      ],
      "metadata": {
        "colab": {
          "base_uri": "https://localhost:8080/"
        },
        "id": "OQzMfq8KH-u0",
        "outputId": "9a4b16d3-b6d4-4a40-fe21-22a5ebda32f1"
      },
      "execution_count": null,
      "outputs": [
        {
          "output_type": "stream",
          "name": "stdout",
          "text": [
            "2*(3+5)=2*3+2*5\n"
          ]
        }
      ]
    },
    {
      "cell_type": "code",
      "source": [
        "a = 2\n",
        "b = 3\n",
        "c = 5\n",
        "print('a*(b+c)=a*b+a*c')"
      ],
      "metadata": {
        "colab": {
          "base_uri": "https://localhost:8080/"
        },
        "id": "uNTEE9EKNMwN",
        "outputId": "68bc90e2-5131-4907-bd57-7770b85ab576"
      },
      "execution_count": null,
      "outputs": [
        {
          "output_type": "stream",
          "name": "stdout",
          "text": [
            "a*(b+c)=a*b+a*c\n"
          ]
        }
      ]
    }
  ]
}